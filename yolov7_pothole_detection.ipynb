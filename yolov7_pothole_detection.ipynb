{
  "cells": [
    {
      "cell_type": "markdown",
      "metadata": {
        "id": "view-in-github",
        "colab_type": "text"
      },
      "source": [
        "<a href=\"https://colab.research.google.com/github/pp2457/portable-ChatGPT/blob/main/yolov7_pothole_detection.ipynb\" target=\"_parent\"><img src=\"https://colab.research.google.com/assets/colab-badge.svg\" alt=\"Open In Colab\"/></a>"
      ]
    },
    {
      "cell_type": "markdown",
      "id": "68dc104a",
      "metadata": {
        "id": "68dc104a",
        "papermill": {
          "duration": 0.006352,
          "end_time": "2022-10-13T09:09:57.077822",
          "exception": false,
          "start_time": "2022-10-13T09:09:57.071470",
          "status": "completed"
        },
        "tags": []
      },
      "source": [
        "# Pothole Detection using YOLOv7\n",
        "* YOLOv7 Tiny model fixed resolution training."
      ]
    },
    {
      "cell_type": "markdown",
      "id": "67c5973c",
      "metadata": {
        "papermill": {
          "duration": 0.004746,
          "end_time": "2022-10-13T09:09:57.088042",
          "exception": false,
          "start_time": "2022-10-13T09:09:57.083296",
          "status": "completed"
        },
        "tags": [],
        "id": "67c5973c"
      },
      "source": [
        "## Dataset:  [Roboflow pothole detection dataset](https://public.roboflow.com/object-detection/pothole/1)\n",
        "* 1265 training images\n",
        "* 401 validation images\n",
        "* 118 test images"
      ]
    },
    {
      "cell_type": "code",
      "execution_count": 1,
      "id": "77d907ce",
      "metadata": {
        "execution": {
          "iopub.execute_input": "2022-10-13T09:09:57.100819Z",
          "iopub.status.busy": "2022-10-13T09:09:57.099969Z",
          "iopub.status.idle": "2022-10-13T09:09:57.249578Z",
          "shell.execute_reply": "2022-10-13T09:09:57.248641Z"
        },
        "id": "77d907ce",
        "papermill": {
          "duration": 0.158606,
          "end_time": "2022-10-13T09:09:57.252029",
          "exception": false,
          "start_time": "2022-10-13T09:09:57.093423",
          "status": "completed"
        },
        "tags": []
      },
      "outputs": [],
      "source": [
        "import os\n",
        "import glob as glob\n",
        "import matplotlib.pyplot as plt\n",
        "import random\n",
        "import cv2"
      ]
    },
    {
      "cell_type": "markdown",
      "id": "8f7e82bd",
      "metadata": {
        "id": "8f7e82bd",
        "papermill": {
          "duration": 0.00515,
          "end_time": "2022-10-13T09:09:57.262521",
          "exception": false,
          "start_time": "2022-10-13T09:09:57.257371",
          "status": "completed"
        },
        "tags": []
      },
      "source": [
        "## Download and Extract the Dataset"
      ]
    },
    {
      "cell_type": "code",
      "execution_count": 2,
      "id": "2256c3b6",
      "metadata": {
        "execution": {
          "iopub.execute_input": "2022-10-13T09:09:57.275029Z",
          "iopub.status.busy": "2022-10-13T09:09:57.273494Z",
          "iopub.status.idle": "2022-10-13T09:10:50.199833Z",
          "shell.execute_reply": "2022-10-13T09:10:50.198583Z"
        },
        "id": "2256c3b6",
        "papermill": {
          "duration": 52.934761,
          "end_time": "2022-10-13T09:10:50.202401",
          "exception": false,
          "start_time": "2022-10-13T09:09:57.267640",
          "status": "completed"
        },
        "tags": [],
        "colab": {
          "base_uri": "https://localhost:8080/"
        },
        "outputId": "9fc38412-580c-4ddb-de56-d6f810a3971a"
      },
      "outputs": [
        {
          "output_type": "stream",
          "name": "stdout",
          "text": [
            "--2024-05-05 01:57:26--  https://learnopencv.s3.us-west-2.amazonaws.com/pothole_dataset.zip\n",
            "Resolving learnopencv.s3.us-west-2.amazonaws.com (learnopencv.s3.us-west-2.amazonaws.com)... 3.5.77.183, 52.92.203.234, 52.92.206.146, ...\n",
            "Connecting to learnopencv.s3.us-west-2.amazonaws.com (learnopencv.s3.us-west-2.amazonaws.com)|3.5.77.183|:443... connected.\n",
            "HTTP request sent, awaiting response... 200 OK\n",
            "Length: 439133609 (419M) [application/zip]\n",
            "Saving to: ‘pothole_dataset.zip.1’\n",
            "\n",
            "pothole_dataset.zip 100%[===================>] 418.79M  21.5MB/s    in 20s     \n",
            "\n",
            "2024-05-05 01:57:47 (21.0 MB/s) - ‘pothole_dataset.zip.1’ saved [439133609/439133609]\n",
            "\n"
          ]
        }
      ],
      "source": [
        "# Download the dataset.\n",
        "!wget https://learnopencv.s3.us-west-2.amazonaws.com/pothole_dataset.zip"
      ]
    },
    {
      "cell_type": "code",
      "execution_count": null,
      "id": "5ebbbf9a",
      "metadata": {
        "execution": {
          "iopub.execute_input": "2022-10-13T09:10:50.231830Z",
          "iopub.status.busy": "2022-10-13T09:10:50.231471Z",
          "iopub.status.idle": "2022-10-13T09:10:55.204676Z",
          "shell.execute_reply": "2022-10-13T09:10:55.203193Z"
        },
        "id": "5ebbbf9a",
        "papermill": {
          "duration": 4.990616,
          "end_time": "2022-10-13T09:10:55.207236",
          "exception": false,
          "start_time": "2022-10-13T09:10:50.216620",
          "status": "completed"
        },
        "tags": [],
        "colab": {
          "base_uri": "https://localhost:8080/"
        },
        "outputId": "a1d15776-38f4-434a-f000-41241ffba493"
      },
      "outputs": [
        {
          "output_type": "stream",
          "name": "stdout",
          "text": [
            "replace pothole_dataset/images/train/img-111_jpg.rf.d7e58630e249c45d8c1d564d847dc236.jpg? [y]es, [n]o, [A]ll, [N]one, [r]ename: "
          ]
        }
      ],
      "source": [
        "# Extract the dataset.\n",
        "!unzip -q pothole_dataset.zip"
      ]
    },
    {
      "cell_type": "code",
      "execution_count": 4,
      "id": "76a66b32",
      "metadata": {
        "execution": {
          "iopub.execute_input": "2022-10-13T09:10:55.249162Z",
          "iopub.status.busy": "2022-10-13T09:10:55.248681Z",
          "iopub.status.idle": "2022-10-13T09:10:56.217925Z",
          "shell.execute_reply": "2022-10-13T09:10:56.216717Z"
        },
        "papermill": {
          "duration": 0.992162,
          "end_time": "2022-10-13T09:10:56.220379",
          "exception": false,
          "start_time": "2022-10-13T09:10:55.228217",
          "status": "completed"
        },
        "tags": [],
        "id": "76a66b32",
        "colab": {
          "base_uri": "https://localhost:8080/"
        },
        "outputId": "0e755b66-4d09-49fa-a5b4-628e05770844"
      },
      "outputs": [
        {
          "output_type": "stream",
          "name": "stdout",
          "text": [
            "total 26000\n",
            "-rw-rw-r-- 1 root root 263318 Aug 18  2022 G0010124.JPG\n",
            "-rw-rw-r-- 1 root root 337312 Aug 18  2022 G0010760.JPG\n",
            "-rw-rw-r-- 1 root root 409966 Aug 18  2022 G0010770.JPG\n",
            "-rw-rw-r-- 1 root root 380396 Aug 18  2022 G0011427.JPG\n",
            "-rw-rw-r-- 1 root root 344510 Aug 18  2022 G0011555.JPG\n",
            "-rw-rw-r-- 1 root root 382047 Aug 18  2022 G0011563.JPG\n",
            "-rw-rw-r-- 1 root root 379907 Aug 18  2022 G0011613.JPG\n",
            "-rw-rw-r-- 1 root root 359967 Aug 18  2022 G0011621.JPG\n",
            "-rw-rw-r-- 1 root root 382503 Aug 18  2022 G0011759.JPG\n",
            "-rw-rw-r-- 1 root root 414532 Aug 18  2022 G0011764.JPG\n",
            "-rw-rw-r-- 1 root root 421099 Aug 18  2022 G0011766.JPG\n",
            "-rw-rw-r-- 1 root root 449712 Aug 18  2022 G0011775.JPG\n",
            "-rw-rw-r-- 1 root root 459801 Aug 18  2022 G0011880.JPG\n",
            "-rw-rw-r-- 1 root root 392695 Aug 18  2022 G0011938.JPG\n",
            "-rw-rw-r-- 1 root root 319175 Aug 18  2022 G0011953.JPG\n",
            "-rw-rw-r-- 1 root root 376279 Aug 18  2022 G0016316.JPG\n",
            "-rw-rw-r-- 1 root root 284054 Aug 18  2022 G0016327.JPG\n",
            "-rw-rw-r-- 1 root root 290648 Aug 18  2022 G0016328.JPG\n",
            "-rw-rw-r-- 1 root root 288838 Aug 18  2022 G0016503.JPG\n",
            "-rw-rw-r-- 1 root root 330947 Aug 18  2022 G0020206.JPG\n",
            "-rw-rw-r-- 1 root root 305340 Aug 18  2022 G0022106.JPG\n",
            "-rw-rw-r-- 1 root root 300412 Aug 18  2022 G0022107.JPG\n",
            "-rw-rw-r-- 1 root root 303738 Aug 18  2022 G0022108.JPG\n",
            "-rw-rw-r-- 1 root root 294521 Aug 18  2022 G0024292.JPG\n",
            "-rw-rw-r-- 1 root root 278393 Aug 18  2022 G0024294.JPG\n",
            "-rw-rw-r-- 1 root root 284452 Aug 18  2022 G0025382.JPG\n",
            "-rw-rw-r-- 1 root root 300715 Aug 18  2022 G0025388.JPG\n",
            "-rw-rw-r-- 1 root root 326192 Aug 18  2022 G0025665.JPG\n",
            "-rw-rw-r-- 1 root root 274111 Aug 18  2022 G0026517.JPG\n",
            "-rw-rw-r-- 1 root root 281189 Aug 18  2022 G0026518.JPG\n",
            "-rw-rw-r-- 1 root root 407497 Aug 18  2022 G0026953.JPG\n",
            "-rw-rw-r-- 1 root root 422771 Aug 18  2022 G0027049.JPG\n",
            "-rw-rw-r-- 1 root root 257752 Aug 18  2022 G0027226.JPG\n",
            "-rw-rw-r-- 1 root root 372829 Aug 18  2022 G0027269.JPG\n",
            "-rw-rw-r-- 1 root root 371805 Aug 18  2022 G0027270.JPG\n",
            "-rw-rw-r-- 1 root root 377275 Aug 18  2022 G0027271.JPG\n",
            "-rw-rw-r-- 1 root root 395804 Aug 18  2022 G0027282.JPG\n",
            "-rw-rw-r-- 1 root root 212287 Aug 18  2022 G0027311.JPG\n",
            "-rw-rw-r-- 1 root root 408679 Aug 18  2022 G0027408.JPG\n",
            "-rw-rw-r-- 1 root root 319469 Aug 18  2022 G0027591.JPG\n",
            "-rw-rw-r-- 1 root root 268467 Aug 18  2022 G0027630.JPG\n",
            "-rw-rw-r-- 1 root root 257409 Aug 18  2022 G0027799.JPG\n",
            "-rw-rw-r-- 1 root root 315408 Aug 18  2022 G0027822.JPG\n",
            "-rw-rw-r-- 1 root root 285275 Aug 18  2022 G0027849.JPG\n",
            "-rw-rw-r-- 1 root root 275426 Aug 18  2022 G0027891.JPG\n",
            "-rw-rw-r-- 1 root root 275121 Aug 18  2022 G0027892.JPG\n",
            "-rw-rw-r-- 1 root root 329439 Aug 18  2022 G0027931.JPG\n",
            "-rw-rw-r-- 1 root root 352827 Aug 18  2022 G0027934.JPG\n",
            "-rw-rw-r-- 1 root root 315693 Aug 18  2022 G0027990.JPG\n",
            "-rw-rw-r-- 1 root root 315604 Aug 18  2022 G0027992.JPG\n",
            "-rw-rw-r-- 1 root root 358828 Aug 18  2022 G0028159.JPG\n",
            "-rw-rw-r-- 1 root root 214144 Aug 18  2022 img-105_jpg.rf.3fe9dff3d1631e79ecb480ff403bcb86.jpg\n",
            "-rw-rw-r-- 1 root root 251843 Aug 18  2022 img-107_jpg.rf.2e40485785f6e5e2efec404301b235c2.jpg\n",
            "-rw-rw-r-- 1 root root 125409 Aug 18  2022 img-146_jpg.rf.61be25b3053a51f622a244980545df2b.jpg\n",
            "-rw-rw-r-- 1 root root 246302 Aug 18  2022 img-161_jpg.rf.211541e7178a4a93ec0680f26b905427.jpg\n",
            "-rw-rw-r-- 1 root root 249794 Aug 18  2022 img-168_jpg.rf.af3590e07b06b43e91fa53990ff94af3.jpg\n",
            "-rw-rw-r-- 1 root root 288445 Aug 18  2022 img-179_jpg.rf.8632eb0d9b75fefe144829e67b75015a.jpg\n",
            "-rw-rw-r-- 1 root root 136159 Aug 18  2022 img-195_jpg.rf.f77a8f4d432a9a89235168ff8e09a650.jpg\n",
            "-rw-rw-r-- 1 root root 288708 Aug 18  2022 img-196_jpg.rf.c1e105382a0bb8d329959cea45173cdf.jpg\n",
            "-rw-rw-r-- 1 root root 252206 Aug 18  2022 img-217_jpg.rf.20e267cdb167c43140e67ec9f5328040.jpg\n",
            "-rw-rw-r-- 1 root root 247293 Aug 18  2022 img-238_jpg.rf.f146df7999e374dbeaba65f92c518159.jpg\n",
            "-rw-rw-r-- 1 root root 270864 Aug 18  2022 img-23_jpg.rf.e6aa0daf83e72ccbf1ea10eb6a6ab3bd.jpg\n",
            "-rw-rw-r-- 1 root root 213803 Aug 18  2022 img-245_jpg.rf.1c9b49a366bda1cf64dbfac2a946cd38.jpg\n",
            "-rw-rw-r-- 1 root root 264268 Aug 18  2022 img-264_jpg.rf.a98f3f39b1afdea9ce3155bbe107c6c1.jpg\n",
            "-rw-rw-r-- 1 root root 261857 Aug 18  2022 img-269_jpg.rf.f51d9eb8d02a34ac01d4a486cbfbdd4f.jpg\n",
            "-rw-rw-r-- 1 root root 270196 Aug 18  2022 img-276_jpg.rf.acc167b63d79ab3b99fd64b4109f86d4.jpg\n",
            "-rw-rw-r-- 1 root root 144720 Aug 18  2022 img-282_jpg.rf.a0ac2a228cf0edb961017e538356b5af.jpg\n",
            "-rw-rw-r-- 1 root root  67805 Aug 18  2022 img-294_jpg.rf.a16953e9091e3eecfc338ed3044ef294.jpg\n",
            "-rw-rw-r-- 1 root root  42058 Aug 18  2022 img-300_jpg.rf.6b7b035dff1cda092ce3dc22be8d0135.jpg\n",
            "-rw-rw-r-- 1 root root  94759 Aug 18  2022 img-307_jpg.rf.65a7065124972969c3efbbca04122668.jpg\n",
            "-rw-rw-r-- 1 root root  86533 Aug 18  2022 img-308_jpg.rf.454dbf8eb0253ddef84789d3e67290c5.jpg\n",
            "-rw-rw-r-- 1 root root  67122 Aug 18  2022 img-334_jpg.rf.967014f8076ad78a0828aa4cb9014da2.jpg\n",
            "-rw-rw-r-- 1 root root  83084 Aug 18  2022 img-336_jpg.rf.eeafb6921ceff278aa8e24afe9f78f8a.jpg\n",
            "-rw-rw-r-- 1 root root  46476 Aug 18  2022 img-337_jpg.rf.aee9516f4db8d93d1fcf7071196974f9.jpg\n",
            "-rw-rw-r-- 1 root root 126038 Aug 18  2022 img-343_jpg.rf.64b8e5ed7aa9153427c52de5812b3ab2.jpg\n",
            "-rw-rw-r-- 1 root root  57001 Aug 18  2022 img-344_jpg.rf.dd4eebb8836b8efe2a2cce77d61349b7.jpg\n",
            "-rw-rw-r-- 1 root root  87616 Aug 18  2022 img-350_jpg.rf.643e7315948dd95c0787f6dc5c938ff3.jpg\n",
            "-rw-rw-r-- 1 root root  75643 Aug 18  2022 img-362_jpg.rf.6363ec1a7603671afb1887d9f16c03e7.jpg\n",
            "-rw-rw-r-- 1 root root  56156 Aug 18  2022 img-364_jpg.rf.e385283baa4507e9b6a79c9e92c4b453.jpg\n",
            "-rw-rw-r-- 1 root root 222870 Aug 18  2022 img-36_jpg.rf.47f0fb502327ec69d5a041581727a149.jpg\n",
            "-rw-rw-r-- 1 root root  50617 Aug 18  2022 img-370_jpg.rf.05c61289bcb823fd9234f20448a9ff3a.jpg\n",
            "-rw-rw-r-- 1 root root  81504 Aug 18  2022 img-371_jpg.rf.a893e0bdc6fda0ba1b2a7f07d56cec23.jpg\n",
            "-rw-rw-r-- 1 root root  92853 Aug 18  2022 img-390_jpg.rf.3eeb4356ab769c112edf7f482110f8ee.jpg\n",
            "-rw-rw-r-- 1 root root  68846 Aug 18  2022 img-394_jpg.rf.2182e193f33ed5bcce45df7df27032f7.jpg\n",
            "-rw-rw-r-- 1 root root  77131 Aug 18  2022 img-397_jpg.rf.a566bd12530cf6093cd6329a2b4c9e7d.jpg\n",
            "-rw-rw-r-- 1 root root 119221 Aug 18  2022 img-398_jpg.rf.0c484369fdb23fdec1b9250477fc5d1d.jpg\n",
            "-rw-rw-r-- 1 root root  77577 Aug 18  2022 img-410_jpg.rf.5f10f2bbde7900b5348aeaed6116b901.jpg\n",
            "-rw-rw-r-- 1 root root  80806 Aug 18  2022 img-415_jpg.rf.2285ec32b9bdc584221e193dc135e3fd.jpg\n",
            "-rw-rw-r-- 1 root root 182741 Aug 18  2022 img-42_jpg.rf.532fb8eb05b1efc570c5e4165e614201.jpg\n",
            "-rw-rw-r-- 1 root root  67073 Aug 18  2022 img-430_jpg.rf.f23ac782ee062c81370384e3ea211b5d.jpg\n",
            "-rw-rw-r-- 1 root root  79436 Aug 18  2022 img-434_jpg.rf.9e48a92f792098919bba712a29b05065.jpg\n",
            "-rw-rw-r-- 1 root root 298142 Aug 18  2022 img-43_jpg.rf.a63cf022f8ba7dbadc62c5d274547b79.jpg\n",
            "-rw-rw-r-- 1 root root  80429 Aug 18  2022 img-440_jpg.rf.4475e2f277c4b84b9d5ae3095916bffa.jpg\n",
            "-rw-rw-r-- 1 root root  87464 Aug 18  2022 img-449_jpg.rf.a88013566cf72d8e523b8517104983d1.jpg\n",
            "-rw-rw-r-- 1 root root 125333 Aug 18  2022 img-44_jpg.rf.c0be863d6030f5d0cb241331c14ee532.jpg\n",
            "-rw-rw-r-- 1 root root  92865 Aug 18  2022 img-452_jpg.rf.005f706e703f7518562fc3ec4df0543f.jpg\n",
            "-rw-rw-r-- 1 root root  72114 Aug 18  2022 img-461_jpg.rf.c8f397ea98b554fde90a8fa53d876fa0.jpg\n",
            "-rw-rw-r-- 1 root root  39355 Aug 18  2022 img-463_jpg.rf.1873f1b5bff6ed336b03ff3dfabb69e4.jpg\n",
            "-rw-rw-r-- 1 root root  83574 Aug 18  2022 img-472_jpg.rf.d71e2cae627685f2ad46e4182bbfb68a.jpg\n",
            "-rw-rw-r-- 1 root root  69143 Aug 18  2022 img-477_jpg.rf.ac13626d46335c39852c19d1770abd10.jpg\n",
            "-rw-rw-r-- 1 root root 307477 Aug 18  2022 img-47_jpg.rf.53aba5861cc3e2c2f7783276288b2b97.jpg\n",
            "-rw-rw-r-- 1 root root  81989 Aug 18  2022 img-486_jpg.rf.7469bae9d18a0cf9dd690fbbcde56298.jpg\n",
            "-rw-rw-r-- 1 root root  89195 Aug 18  2022 img-501_jpg.rf.d2ea0e0d6091ce43d964d62e7ac02231.jpg\n",
            "-rw-rw-r-- 1 root root 116664 Aug 18  2022 img-520_jpg.rf.ba86706dc4249198011497cafcb4a881.jpg\n",
            "-rw-rw-r-- 1 root root  48126 Aug 18  2022 img-525_jpg.rf.31bb542f59dd1c64d4af0952f14c76e3.jpg\n",
            "-rw-rw-r-- 1 root root  65392 Aug 18  2022 img-536_jpg.rf.a0b5c2d9388b4cb55785d5fa9e198a5c.jpg\n",
            "-rw-rw-r-- 1 root root  53496 Aug 18  2022 img-576_jpg.rf.f6cd32a51b0c518b58ff750ecab687d1.jpg\n",
            "-rw-rw-r-- 1 root root  56558 Aug 18  2022 img-588_jpg.rf.a1673547626abed4ad61089fa41b0365.jpg\n",
            "-rw-rw-r-- 1 root root  62892 Aug 18  2022 img-590_jpg.rf.7ee475f30ca7858338589be9820a3978.jpg\n",
            "-rw-rw-r-- 1 root root  59943 Aug 18  2022 img-621_jpg.rf.9721804149e82d9ebc58f8d19a01d044.jpg\n",
            "-rw-rw-r-- 1 root root  79517 Aug 18  2022 img-631_jpg.rf.86bcf4f20ded917eb31426fe83043df3.jpg\n",
            "-rw-rw-r-- 1 root root  86462 Aug 18  2022 img-634_jpg.rf.42d6e4ebdda859ab935130b75ae5808f.jpg\n",
            "-rw-rw-r-- 1 root root 218329 Aug 18  2022 img-65_jpg.rf.9e22afc3c2cf318239352e43a97a7241.jpg\n",
            "-rw-rw-r-- 1 root root 135379 Aug 18  2022 img-68_jpg.rf.c8886ded10d01454f789376e4234ae74.jpg\n",
            "-rw-rw-r-- 1 root root 277577 Aug 18  2022 img-72_jpg.rf.02fb39f41fc685d8b616b0751976a8a3.jpg\n",
            "-rw-rw-r-- 1 root root 279786 Aug 18  2022 img-79_jpg.rf.3b2198b179f00a052f569a6224172c8a.jpg\n",
            "-rw-rw-r-- 1 root root 196340 Aug 18  2022 img-82_jpg.rf.851a545b1b004e7303844e4779d3272c.jpg\n",
            "-rw-rw-r-- 1 root root 295709 Aug 18  2022 img-98_jpg.rf.667209472947ff4d519f65c6e206a7c3.jpg\n"
          ]
        }
      ],
      "source": [
        "!ls -l pothole_dataset/images/test"
      ]
    },
    {
      "cell_type": "markdown",
      "id": "589ca348",
      "metadata": {
        "id": "589ca348",
        "papermill": {
          "duration": 0.012829,
          "end_time": "2022-10-13T09:10:56.247255",
          "exception": false,
          "start_time": "2022-10-13T09:10:56.234426",
          "status": "completed"
        },
        "tags": []
      },
      "source": [
        "## Visualize Images from the Dataset"
      ]
    },
    {
      "cell_type": "code",
      "execution_count": 5,
      "id": "ffbfaab2",
      "metadata": {
        "execution": {
          "iopub.execute_input": "2022-10-13T09:10:56.275801Z",
          "iopub.status.busy": "2022-10-13T09:10:56.274790Z",
          "iopub.status.idle": "2022-10-13T09:10:56.281474Z",
          "shell.execute_reply": "2022-10-13T09:10:56.280571Z"
        },
        "id": "ffbfaab2",
        "papermill": {
          "duration": 0.023229,
          "end_time": "2022-10-13T09:10:56.283517",
          "exception": false,
          "start_time": "2022-10-13T09:10:56.260288",
          "status": "completed"
        },
        "tags": []
      },
      "outputs": [],
      "source": [
        "# Function to convert bounding boxes in YOLO format to xmin, ymin, xmax, ymax.\n",
        "def yolo2bbox(bboxes):\n",
        "    xmin, ymin = bboxes[0]-bboxes[2]/2, bboxes[1]-bboxes[3]/2\n",
        "    xmax, ymax = bboxes[0]+bboxes[2]/2, bboxes[1]+bboxes[3]/2\n",
        "    return xmin, ymin, xmax, ymax"
      ]
    },
    {
      "cell_type": "code",
      "execution_count": 6,
      "id": "9daae225",
      "metadata": {
        "execution": {
          "iopub.execute_input": "2022-10-13T09:10:56.311312Z",
          "iopub.status.busy": "2022-10-13T09:10:56.310478Z",
          "iopub.status.idle": "2022-10-13T09:10:56.317330Z",
          "shell.execute_reply": "2022-10-13T09:10:56.316341Z"
        },
        "id": "9daae225",
        "papermill": {
          "duration": 0.02273,
          "end_time": "2022-10-13T09:10:56.319163",
          "exception": false,
          "start_time": "2022-10-13T09:10:56.296433",
          "status": "completed"
        },
        "tags": []
      },
      "outputs": [],
      "source": [
        "def plot_box(image, bboxes, labels):\n",
        "    # Need the image height and width to denormalize\n",
        "    # the bounding box coordinates\n",
        "    h, w, _ = image.shape\n",
        "    for box_num, box in enumerate(bboxes):\n",
        "        x1, y1, x2, y2 = yolo2bbox(box)\n",
        "        # Denormalize the coordinates.\n",
        "        xmin = int(x1*w)\n",
        "        ymin = int(y1*h)\n",
        "        xmax = int(x2*w)\n",
        "        ymax = int(y2*h)\n",
        "\n",
        "        thickness = max(2, int(w/275))\n",
        "\n",
        "        cv2.rectangle(\n",
        "            image,\n",
        "            (xmin, ymin), (xmax, ymax),\n",
        "            color=(0, 0, 255),\n",
        "            thickness=thickness\n",
        "        )\n",
        "    return image"
      ]
    },
    {
      "cell_type": "code",
      "execution_count": 7,
      "id": "8db9dbcc",
      "metadata": {
        "execution": {
          "iopub.execute_input": "2022-10-13T09:10:56.348825Z",
          "iopub.status.busy": "2022-10-13T09:10:56.347361Z",
          "iopub.status.idle": "2022-10-13T09:10:56.358241Z",
          "shell.execute_reply": "2022-10-13T09:10:56.357333Z"
        },
        "id": "8db9dbcc",
        "papermill": {
          "duration": 0.02771,
          "end_time": "2022-10-13T09:10:56.360361",
          "exception": false,
          "start_time": "2022-10-13T09:10:56.332651",
          "status": "completed"
        },
        "tags": []
      },
      "outputs": [],
      "source": [
        "# Function to plot images with the bounding boxes.\n",
        "def plot(image_paths, label_paths, num_samples):\n",
        "    all_images = []\n",
        "    all_images.extend(glob.glob(image_paths+'/*.jpg'))\n",
        "    all_images.extend(glob.glob(image_paths+'/*.JPG'))\n",
        "    all_labels = glob.glob(label_paths)\n",
        "\n",
        "    all_images.sort()\n",
        "    all_labels.sort()\n",
        "\n",
        "    num_images = len(all_images)\n",
        "\n",
        "    plt.figure(figsize=(15, 12))\n",
        "    for i in range(num_samples):\n",
        "        j = random.randint(0,num_images-1)\n",
        "        image = cv2.imread(all_images[j])\n",
        "        with open(all_labels[j], 'r') as f:\n",
        "            bboxes = []\n",
        "            labels = []\n",
        "            label_lines = f.readlines()\n",
        "            for label_line in label_lines:\n",
        "                label = label_line[0]\n",
        "                bbox_string = label_line[2:]\n",
        "                x_c, y_c, w, h = bbox_string.split(' ')\n",
        "                x_c = float(x_c)\n",
        "                y_c = float(y_c)\n",
        "                w = float(w)\n",
        "                h = float(h)\n",
        "                bboxes.append([x_c, y_c, w, h])\n",
        "                labels.append(label)\n",
        "        result_image = plot_box(image, bboxes, labels)\n",
        "        plt.subplot(2, 2, i+1)\n",
        "        plt.imshow(result_image[:, :, ::-1])\n",
        "        plt.axis('off')\n",
        "    plt.subplots_adjust(wspace=1)\n",
        "    plt.tight_layout()\n",
        "    plt.show()"
      ]
    },
    {
      "cell_type": "code",
      "execution_count": null,
      "id": "3e878e2f",
      "metadata": {
        "execution": {
          "iopub.execute_input": "2022-10-13T09:10:56.388217Z",
          "iopub.status.busy": "2022-10-13T09:10:56.387375Z",
          "iopub.status.idle": "2022-10-13T09:10:57.511402Z",
          "shell.execute_reply": "2022-10-13T09:10:57.510209Z"
        },
        "id": "3e878e2f",
        "papermill": {
          "duration": 1.158344,
          "end_time": "2022-10-13T09:10:57.531877",
          "exception": false,
          "start_time": "2022-10-13T09:10:56.373533",
          "status": "completed"
        },
        "tags": []
      },
      "outputs": [],
      "source": [
        "# Visualize a few training images.\n",
        "plot(\n",
        "    image_paths='pothole_dataset/images/train/',\n",
        "    label_paths='pothole_dataset/labels/train/*.txt',\n",
        "    num_samples=4,\n",
        ")"
      ]
    },
    {
      "cell_type": "markdown",
      "id": "36914c0a",
      "metadata": {
        "id": "36914c0a",
        "papermill": {
          "duration": 0.036,
          "end_time": "2022-10-13T09:10:57.603554",
          "exception": false,
          "start_time": "2022-10-13T09:10:57.567554",
          "status": "completed"
        },
        "tags": []
      },
      "source": [
        "## Repro [YOLOv7](https://github.com/WongKinYiu/yolov7.git)"
      ]
    },
    {
      "cell_type": "code",
      "execution_count": null,
      "id": "c2ae081d",
      "metadata": {
        "execution": {
          "iopub.execute_input": "2022-10-13T09:10:57.676784Z",
          "iopub.status.busy": "2022-10-13T09:10:57.676369Z",
          "iopub.status.idle": "2022-10-13T09:11:04.611315Z",
          "shell.execute_reply": "2022-10-13T09:11:04.610084Z"
        },
        "id": "c2ae081d",
        "papermill": {
          "duration": 6.976506,
          "end_time": "2022-10-13T09:11:04.613967",
          "exception": false,
          "start_time": "2022-10-13T09:10:57.637461",
          "status": "completed"
        },
        "tags": []
      },
      "outputs": [],
      "source": [
        "if not os.path.exists('yolov7'):\n",
        "    !git clone https://github.com/WongKinYiu/yolov7.git"
      ]
    },
    {
      "cell_type": "code",
      "execution_count": null,
      "id": "46bd481a",
      "metadata": {
        "execution": {
          "iopub.execute_input": "2022-10-13T09:11:04.689695Z",
          "iopub.status.busy": "2022-10-13T09:11:04.688838Z",
          "iopub.status.idle": "2022-10-13T09:11:04.696484Z",
          "shell.execute_reply": "2022-10-13T09:11:04.695297Z"
        },
        "id": "46bd481a",
        "papermill": {
          "duration": 0.048475,
          "end_time": "2022-10-13T09:11:04.698502",
          "exception": false,
          "start_time": "2022-10-13T09:11:04.650027",
          "status": "completed"
        },
        "tags": []
      },
      "outputs": [],
      "source": [
        "%cd yolov7"
      ]
    },
    {
      "cell_type": "code",
      "execution_count": null,
      "id": "bf9919f6",
      "metadata": {
        "execution": {
          "iopub.execute_input": "2022-10-13T09:11:04.772727Z",
          "iopub.status.busy": "2022-10-13T09:11:04.772362Z",
          "iopub.status.idle": "2022-10-13T09:11:19.744563Z",
          "shell.execute_reply": "2022-10-13T09:11:19.743377Z"
        },
        "id": "bf9919f6",
        "papermill": {
          "duration": 15.012172,
          "end_time": "2022-10-13T09:11:19.746864",
          "exception": false,
          "start_time": "2022-10-13T09:11:04.734692",
          "status": "completed"
        },
        "tags": []
      },
      "outputs": [],
      "source": [
        "!pip install -r requirements.txt\n",
        "!pip uninstall wandb -y"
      ]
    },
    {
      "cell_type": "markdown",
      "id": "fa3d6ab2",
      "metadata": {
        "id": "fa3d6ab2",
        "papermill": {
          "duration": 0.037876,
          "end_time": "2022-10-13T09:11:19.821423",
          "exception": false,
          "start_time": "2022-10-13T09:11:19.783547",
          "status": "completed"
        },
        "tags": []
      },
      "source": [
        "## Create the Data YAML File"
      ]
    },
    {
      "cell_type": "code",
      "execution_count": null,
      "id": "e5a09477",
      "metadata": {
        "execution": {
          "iopub.execute_input": "2022-10-13T09:11:19.897719Z",
          "iopub.status.busy": "2022-10-13T09:11:19.897333Z",
          "iopub.status.idle": "2022-10-13T09:11:19.906614Z",
          "shell.execute_reply": "2022-10-13T09:11:19.905463Z"
        },
        "id": "e5a09477",
        "papermill": {
          "duration": 0.050705,
          "end_time": "2022-10-13T09:11:19.908770",
          "exception": false,
          "start_time": "2022-10-13T09:11:19.858065",
          "status": "completed"
        },
        "tags": []
      },
      "outputs": [],
      "source": [
        "%%writefile data/pothole.yaml\n",
        "train: ../pothole_dataset/images/train\n",
        "val: ../pothole_dataset/images/valid\n",
        "test: ../pothole_dataset/images/test\n",
        "\n",
        "# Classes\n",
        "nc: 1  # number of classes\n",
        "names: ['pothole']  # class names"
      ]
    },
    {
      "cell_type": "markdown",
      "id": "976698a3",
      "metadata": {
        "id": "976698a3",
        "papermill": {
          "duration": 0.037385,
          "end_time": "2022-10-13T09:11:19.984121",
          "exception": false,
          "start_time": "2022-10-13T09:11:19.946736",
          "status": "completed"
        },
        "tags": []
      },
      "source": [
        "## YOLOv7 Tiny Model Fixed Resolution Training"
      ]
    },
    {
      "cell_type": "code",
      "execution_count": null,
      "id": "421b3be0",
      "metadata": {
        "execution": {
          "iopub.execute_input": "2022-10-13T09:11:20.064521Z",
          "iopub.status.busy": "2022-10-13T09:11:20.063796Z",
          "iopub.status.idle": "2022-10-13T09:11:22.453084Z",
          "shell.execute_reply": "2022-10-13T09:11:22.451938Z"
        },
        "id": "421b3be0",
        "papermill": {
          "duration": 2.432618,
          "end_time": "2022-10-13T09:11:22.455554",
          "exception": false,
          "start_time": "2022-10-13T09:11:20.022936",
          "status": "completed"
        },
        "tags": []
      },
      "outputs": [],
      "source": [
        "# Download the Tiny model weights.\n",
        "!wget https://github.com/WongKinYiu/yolov7/releases/download/v0.1/yolov7-tiny.pt"
      ]
    },
    {
      "cell_type": "code",
      "execution_count": null,
      "id": "578c9ccc",
      "metadata": {
        "execution": {
          "iopub.execute_input": "2022-10-13T09:11:22.533457Z",
          "iopub.status.busy": "2022-10-13T09:11:22.533085Z",
          "iopub.status.idle": "2022-10-13T09:11:22.541715Z",
          "shell.execute_reply": "2022-10-13T09:11:22.540780Z"
        },
        "id": "578c9ccc",
        "papermill": {
          "duration": 0.050693,
          "end_time": "2022-10-13T09:11:22.543755",
          "exception": false,
          "start_time": "2022-10-13T09:11:22.493062",
          "status": "completed"
        },
        "tags": []
      },
      "outputs": [],
      "source": [
        "%%writefile cfg/training/yolov7_pothole-tiny.yaml\n",
        "# parameters\n",
        "nc: 1  # number of classes\n",
        "depth_multiple: 1.0  # model depth multiple\n",
        "width_multiple: 1.0  # layer channel multiple\n",
        "\n",
        "# anchors\n",
        "anchors:\n",
        "  - [10,13, 16,30, 33,23]  # P3/8\n",
        "  - [30,61, 62,45, 59,119]  # P4/16\n",
        "  - [116,90, 156,198, 373,326]  # P5/32\n",
        "\n",
        "# yolov7-tiny backbone\n",
        "backbone:\n",
        "  # [from, number, module, args] c2, k=1, s=1, p=None, g=1, act=True\n",
        "  [[-1, 1, Conv, [32, 3, 2, None, 1, nn.LeakyReLU(0.1)]],  # 0-P1/2\n",
        "\n",
        "   [-1, 1, Conv, [64, 3, 2, None, 1, nn.LeakyReLU(0.1)]],  # 1-P2/4\n",
        "\n",
        "   [-1, 1, Conv, [32, 1, 1, None, 1, nn.LeakyReLU(0.1)]],\n",
        "   [-2, 1, Conv, [32, 1, 1, None, 1, nn.LeakyReLU(0.1)]],\n",
        "   [-1, 1, Conv, [32, 3, 1, None, 1, nn.LeakyReLU(0.1)]],\n",
        "   [-1, 1, Conv, [32, 3, 1, None, 1, nn.LeakyReLU(0.1)]],\n",
        "   [[-1, -2, -3, -4], 1, Concat, [1]],\n",
        "   [-1, 1, Conv, [64, 1, 1, None, 1, nn.LeakyReLU(0.1)]],  # 7\n",
        "\n",
        "   [-1, 1, MP, []],  # 8-P3/8\n",
        "   [-1, 1, Conv, [64, 1, 1, None, 1, nn.LeakyReLU(0.1)]],\n",
        "   [-2, 1, Conv, [64, 1, 1, None, 1, nn.LeakyReLU(0.1)]],\n",
        "   [-1, 1, Conv, [64, 3, 1, None, 1, nn.LeakyReLU(0.1)]],\n",
        "   [-1, 1, Conv, [64, 3, 1, None, 1, nn.LeakyReLU(0.1)]],\n",
        "   [[-1, -2, -3, -4], 1, Concat, [1]],\n",
        "   [-1, 1, Conv, [128, 1, 1, None, 1, nn.LeakyReLU(0.1)]],  # 14\n",
        "\n",
        "   [-1, 1, MP, []],  # 15-P4/16\n",
        "   [-1, 1, Conv, [128, 1, 1, None, 1, nn.LeakyReLU(0.1)]],\n",
        "   [-2, 1, Conv, [128, 1, 1, None, 1, nn.LeakyReLU(0.1)]],\n",
        "   [-1, 1, Conv, [128, 3, 1, None, 1, nn.LeakyReLU(0.1)]],\n",
        "   [-1, 1, Conv, [128, 3, 1, None, 1, nn.LeakyReLU(0.1)]],\n",
        "   [[-1, -2, -3, -4], 1, Concat, [1]],\n",
        "   [-1, 1, Conv, [256, 1, 1, None, 1, nn.LeakyReLU(0.1)]],  # 21\n",
        "\n",
        "   [-1, 1, MP, []],  # 22-P5/32\n",
        "   [-1, 1, Conv, [256, 1, 1, None, 1, nn.LeakyReLU(0.1)]],\n",
        "   [-2, 1, Conv, [256, 1, 1, None, 1, nn.LeakyReLU(0.1)]],\n",
        "   [-1, 1, Conv, [256, 3, 1, None, 1, nn.LeakyReLU(0.1)]],\n",
        "   [-1, 1, Conv, [256, 3, 1, None, 1, nn.LeakyReLU(0.1)]],\n",
        "   [[-1, -2, -3, -4], 1, Concat, [1]],\n",
        "   [-1, 1, Conv, [512, 1, 1, None, 1, nn.LeakyReLU(0.1)]],  # 28\n",
        "  ]\n",
        "\n",
        "# yolov7-tiny head\n",
        "head:\n",
        "  [[-1, 1, Conv, [256, 1, 1, None, 1, nn.LeakyReLU(0.1)]],\n",
        "   [-2, 1, Conv, [256, 1, 1, None, 1, nn.LeakyReLU(0.1)]],\n",
        "   [-1, 1, SP, [5]],\n",
        "   [-2, 1, SP, [9]],\n",
        "   [-3, 1, SP, [13]],\n",
        "   [[-1, -2, -3, -4], 1, Concat, [1]],\n",
        "   [-1, 1, Conv, [256, 1, 1, None, 1, nn.LeakyReLU(0.1)]],\n",
        "   [[-1, -7], 1, Concat, [1]],\n",
        "   [-1, 1, Conv, [256, 1, 1, None, 1, nn.LeakyReLU(0.1)]],  # 37\n",
        "\n",
        "   [-1, 1, Conv, [128, 1, 1, None, 1, nn.LeakyReLU(0.1)]],\n",
        "   [-1, 1, nn.Upsample, [None, 2, 'nearest']],\n",
        "   [21, 1, Conv, [128, 1, 1, None, 1, nn.LeakyReLU(0.1)]], # route backbone P4\n",
        "   [[-1, -2], 1, Concat, [1]],\n",
        "\n",
        "   [-1, 1, Conv, [64, 1, 1, None, 1, nn.LeakyReLU(0.1)]],\n",
        "   [-2, 1, Conv, [64, 1, 1, None, 1, nn.LeakyReLU(0.1)]],\n",
        "   [-1, 1, Conv, [64, 3, 1, None, 1, nn.LeakyReLU(0.1)]],\n",
        "   [-1, 1, Conv, [64, 3, 1, None, 1, nn.LeakyReLU(0.1)]],\n",
        "   [[-1, -2, -3, -4], 1, Concat, [1]],\n",
        "   [-1, 1, Conv, [128, 1, 1, None, 1, nn.LeakyReLU(0.1)]],  # 47\n",
        "\n",
        "   [-1, 1, Conv, [64, 1, 1, None, 1, nn.LeakyReLU(0.1)]],\n",
        "   [-1, 1, nn.Upsample, [None, 2, 'nearest']],\n",
        "   [14, 1, Conv, [64, 1, 1, None, 1, nn.LeakyReLU(0.1)]], # route backbone P3\n",
        "   [[-1, -2], 1, Concat, [1]],\n",
        "\n",
        "   [-1, 1, Conv, [32, 1, 1, None, 1, nn.LeakyReLU(0.1)]],\n",
        "   [-2, 1, Conv, [32, 1, 1, None, 1, nn.LeakyReLU(0.1)]],\n",
        "   [-1, 1, Conv, [32, 3, 1, None, 1, nn.LeakyReLU(0.1)]],\n",
        "   [-1, 1, Conv, [32, 3, 1, None, 1, nn.LeakyReLU(0.1)]],\n",
        "   [[-1, -2, -3, -4], 1, Concat, [1]],\n",
        "   [-1, 1, Conv, [64, 1, 1, None, 1, nn.LeakyReLU(0.1)]],  # 57\n",
        "\n",
        "   [-1, 1, Conv, [128, 3, 2, None, 1, nn.LeakyReLU(0.1)]],\n",
        "   [[-1, 47], 1, Concat, [1]],\n",
        "\n",
        "   [-1, 1, Conv, [64, 1, 1, None, 1, nn.LeakyReLU(0.1)]],\n",
        "   [-2, 1, Conv, [64, 1, 1, None, 1, nn.LeakyReLU(0.1)]],\n",
        "   [-1, 1, Conv, [64, 3, 1, None, 1, nn.LeakyReLU(0.1)]],\n",
        "   [-1, 1, Conv, [64, 3, 1, None, 1, nn.LeakyReLU(0.1)]],\n",
        "   [[-1, -2, -3, -4], 1, Concat, [1]],\n",
        "   [-1, 1, Conv, [128, 1, 1, None, 1, nn.LeakyReLU(0.1)]],  # 65\n",
        "\n",
        "   [-1, 1, Conv, [256, 3, 2, None, 1, nn.LeakyReLU(0.1)]],\n",
        "   [[-1, 37], 1, Concat, [1]],\n",
        "\n",
        "   [-1, 1, Conv, [128, 1, 1, None, 1, nn.LeakyReLU(0.1)]],\n",
        "   [-2, 1, Conv, [128, 1, 1, None, 1, nn.LeakyReLU(0.1)]],\n",
        "   [-1, 1, Conv, [128, 3, 1, None, 1, nn.LeakyReLU(0.1)]],\n",
        "   [-1, 1, Conv, [128, 3, 1, None, 1, nn.LeakyReLU(0.1)]],\n",
        "   [[-1, -2, -3, -4], 1, Concat, [1]],\n",
        "   [-1, 1, Conv, [256, 1, 1, None, 1, nn.LeakyReLU(0.1)]],  # 73\n",
        "\n",
        "   [57, 1, Conv, [128, 3, 1, None, 1, nn.LeakyReLU(0.1)]],\n",
        "   [65, 1, Conv, [256, 3, 1, None, 1, nn.LeakyReLU(0.1)]],\n",
        "   [73, 1, Conv, [512, 3, 1, None, 1, nn.LeakyReLU(0.1)]],\n",
        "\n",
        "   [[74,75,76], 1, IDetect, [nc, anchors]],   # Detect(P3, P4, P5)\n",
        "  ]"
      ]
    },
    {
      "cell_type": "markdown",
      "id": "0c0c44ac",
      "metadata": {
        "papermill": {
          "duration": 0.037593,
          "end_time": "2022-10-13T09:11:22.619407",
          "exception": false,
          "start_time": "2022-10-13T09:11:22.581814",
          "status": "completed"
        },
        "tags": [],
        "id": "0c0c44ac"
      },
      "source": [
        "## Train Model"
      ]
    },
    {
      "cell_type": "code",
      "execution_count": null,
      "id": "a0bac8cc",
      "metadata": {
        "execution": {
          "iopub.execute_input": "2022-10-13T09:11:22.697161Z",
          "iopub.status.busy": "2022-10-13T09:11:22.696792Z",
          "iopub.status.idle": "2022-10-13T11:49:05.052483Z",
          "shell.execute_reply": "2022-10-13T11:49:05.051334Z"
        },
        "id": "a0bac8cc",
        "papermill": {
          "duration": 9462.398177,
          "end_time": "2022-10-13T11:49:05.054913",
          "exception": false,
          "start_time": "2022-10-13T09:11:22.656736",
          "status": "completed"
        },
        "tags": []
      },
      "outputs": [],
      "source": [
        "!python train.py --epochs 100 --workers 4 --device 0 --batch-size 32 \\\n",
        "--data data/pothole.yaml --img 640 640 --cfg cfg/training/yolov7_pothole-tiny.yaml \\\n",
        "--weights 'yolov7-tiny.pt' --name yolov7_tiny_pothole_fixed_res --hyp data/hyp.scratch.tiny.yaml"
      ]
    },
    {
      "cell_type": "markdown",
      "id": "8fc90aac",
      "metadata": {
        "papermill": {
          "duration": 0.295755,
          "end_time": "2022-10-13T11:49:05.654363",
          "exception": false,
          "start_time": "2022-10-13T11:49:05.358608",
          "status": "completed"
        },
        "tags": [],
        "id": "8fc90aac"
      },
      "source": [
        "## Test Model"
      ]
    },
    {
      "cell_type": "code",
      "execution_count": null,
      "id": "e0006889",
      "metadata": {
        "execution": {
          "iopub.execute_input": "2022-10-13T11:49:06.262793Z",
          "iopub.status.busy": "2022-10-13T11:49:06.262411Z",
          "iopub.status.idle": "2022-10-13T11:49:24.881868Z",
          "shell.execute_reply": "2022-10-13T11:49:24.880696Z"
        },
        "id": "e0006889",
        "papermill": {
          "duration": 18.939211,
          "end_time": "2022-10-13T11:49:24.884673",
          "exception": false,
          "start_time": "2022-10-13T11:49:05.945462",
          "status": "completed"
        },
        "tags": []
      },
      "outputs": [],
      "source": [
        "!python test.py --weights runs/train/yolov7_tiny_pothole_fixed_res/weights/best.pt --task test --data data/pothole.yaml"
      ]
    },
    {
      "cell_type": "markdown",
      "id": "9fcdd8d3",
      "metadata": {
        "papermill": {
          "duration": 0.294568,
          "end_time": "2022-10-13T11:49:25.477985",
          "exception": false,
          "start_time": "2022-10-13T11:49:25.183417",
          "status": "completed"
        },
        "tags": [],
        "id": "9fcdd8d3"
      },
      "source": [
        "## Inference"
      ]
    },
    {
      "cell_type": "code",
      "execution_count": null,
      "id": "6995b357",
      "metadata": {
        "execution": {
          "iopub.execute_input": "2022-10-13T11:49:26.130600Z",
          "iopub.status.busy": "2022-10-13T11:49:26.130153Z",
          "iopub.status.idle": "2022-10-13T11:49:35.493832Z",
          "shell.execute_reply": "2022-10-13T11:49:35.492636Z"
        },
        "papermill": {
          "duration": 9.72349,
          "end_time": "2022-10-13T11:49:35.496709",
          "exception": false,
          "start_time": "2022-10-13T11:49:25.773219",
          "status": "completed"
        },
        "tags": [],
        "id": "6995b357"
      },
      "outputs": [],
      "source": [
        "!python detect.py --weights runs/train/yolov7_tiny_pothole_fixed_res/weights/best.pt --conf 0.25 --img-size 640 --source ../pothole_dataset/images/test/G0010124.JPG"
      ]
    },
    {
      "cell_type": "markdown",
      "id": "cd30ba7b",
      "metadata": {
        "papermill": {
          "duration": 0.298235,
          "end_time": "2022-10-13T11:49:36.092725",
          "exception": false,
          "start_time": "2022-10-13T11:49:35.794490",
          "status": "completed"
        },
        "tags": [],
        "id": "cd30ba7b"
      },
      "source": [
        "## Show Result"
      ]
    },
    {
      "cell_type": "code",
      "execution_count": null,
      "id": "b5761874",
      "metadata": {
        "execution": {
          "iopub.execute_input": "2022-10-13T11:49:36.689818Z",
          "iopub.status.busy": "2022-10-13T11:49:36.688732Z",
          "iopub.status.idle": "2022-10-13T11:49:36.695098Z",
          "shell.execute_reply": "2022-10-13T11:49:36.694064Z"
        },
        "papermill": {
          "duration": 0.308257,
          "end_time": "2022-10-13T11:49:36.697104",
          "exception": false,
          "start_time": "2022-10-13T11:49:36.388847",
          "status": "completed"
        },
        "tags": [],
        "id": "b5761874"
      },
      "outputs": [],
      "source": [
        "from IPython.display import Image"
      ]
    },
    {
      "cell_type": "code",
      "execution_count": null,
      "id": "8e5c2176",
      "metadata": {
        "execution": {
          "iopub.execute_input": "2022-10-13T11:49:37.337400Z",
          "iopub.status.busy": "2022-10-13T11:49:37.337052Z",
          "iopub.status.idle": "2022-10-13T11:49:37.350520Z",
          "shell.execute_reply": "2022-10-13T11:49:37.349709Z"
        },
        "papermill": {
          "duration": 0.33139,
          "end_time": "2022-10-13T11:49:37.355383",
          "exception": false,
          "start_time": "2022-10-13T11:49:37.023993",
          "status": "completed"
        },
        "tags": [],
        "id": "8e5c2176"
      },
      "outputs": [],
      "source": [
        "Image(filename='runs/detect/exp/G0010124.JPG')"
      ]
    }
  ],
  "metadata": {
    "kernelspec": {
      "display_name": "Python 3",
      "language": "python",
      "name": "python3"
    },
    "language_info": {
      "codemirror_mode": {
        "name": "ipython",
        "version": 3
      },
      "file_extension": ".py",
      "mimetype": "text/x-python",
      "name": "python",
      "nbconvert_exporter": "python",
      "pygments_lexer": "ipython3",
      "version": "3.7.12"
    },
    "papermill": {
      "default_parameters": {},
      "duration": 9589.174622,
      "end_time": "2022-10-13T11:49:38.252359",
      "environment_variables": {},
      "exception": null,
      "input_path": "__notebook__.ipynb",
      "output_path": "__notebook__.ipynb",
      "parameters": {},
      "start_time": "2022-10-13T09:09:49.077737",
      "version": "2.3.4"
    },
    "colab": {
      "provenance": [],
      "include_colab_link": true
    }
  },
  "nbformat": 4,
  "nbformat_minor": 5
}